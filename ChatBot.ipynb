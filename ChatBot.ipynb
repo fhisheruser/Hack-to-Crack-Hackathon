{
  "cells": [
    {
      "cell_type": "code",
      "source": [
        "from transformers import GPT2Tokenizer, GPT2LMHeadModel\n",
        "import random\n",
        "\n",
        "# Load pre-trained model and tokenizer\n",
        "tokenizer = GPT2Tokenizer.from_pretrained(\"gpt2\")\n",
        "model = GPT2LMHeadModel.from_pretrained(\"gpt2\")\n",
        "\n",
        "# Add Ayurvedic remedies to all symptoms\n",
        "symptoms_to_remedies=({\n",
        "    \"cold\": [\"Drink warm honey lemon water with a pinch of turmeric\" and \"Take Trikatu churna (mixture of ginger, black pepper, and long pepper) with honey\"],\n",
        "    \"fever\": [\"Boil tulsi (holy basil) leaves with ginger in water and drink\" and \"Take Sitopaladi churna mixed with honey\"],\n",
        "    \"cough\": [\"Take Ayurvedic cough syrup made from herbs like Vasaka, Tulsi, and Licorice\" and \"Drink warm water with honey and cinnamon\"],\n",
        "    \"sore throat\": [\"Gargle with warm water mixed with turmeric and salt\" and \"Drink Kadha (decoction) made from ginger, cinnamon, and cloves\"],\n",
        "    \"fatigue\": [\"Take Ashwagandha churna mixed with warm milk\" and \"Drink Shatavari (Asparagus racemosus) decoction\"],\n",
        "    \"insomnia\": [\"Drink warm milk with a pinch of nutmeg and cardamom powder\" and \"Take Brahmi (Bacopa monnieri) capsules before bed\"],\n",
        "    \"anxiety\": [\"Drink chamomile tea with a dash of Brahmi powder\" and \"Massage scalp with Brahmi oil\"],\n",
        "    \"depression\": [\"Take Jatamansi (Nardostachys jatamansi) capsules\" and \"Practice Pranayama (breathing exercises) daily\"],\n",
        "    \"acne\": [\"Apply Neem paste on affected areas\" and \"Drink Neem juice mixed with amla juice\"],\n",
        "    \"indigestion\": [\"Drink Ajwain (carom seeds) water\" and \"Take Triphala churna before bedtime\"],\n",
        "    \"constipation\": [\"Drink warm water with Triphala churna\" and \"Eat cooked apples with ghee and black pepper\"],\n",
        "    \"diarrhea\": [\"Drink pomegranate juice\" and \"Take Bilva (Aegle marmelos) churna with yogurt\"],\n",
        "    \"bloating\": [\"Drink Cumin (jeera) tea\" and \"Take Hingvashtak churna with warm water\"],\n",
        "    \"muscle pain\": [\"Massage with Mahanarayana oil\" and \"Take Shallaki (Boswellia serrata) capsules\"],\n",
        "    \"joint pain\": [\"Apply warm sesame oil mixed with camphor\" and \"Take Guggul capsules\"],\n",
        "    \"back pain\": [\"Apply warm Castor oil compress\" and \"Take Yogaraj Guggul tablets\"],\n",
        "    \"migraine\": [\"Apply Brahmi oil on forehead\" and \"Drink ginger tea with a pinch of licorice powder\"],\n",
        "    \"allergies\": [\"Take Haridra (turmeric) capsules\" and \"Drink Nettle leaf tea\"],\n",
        "    \"sinus congestion\": [\"Inhale eucalyptus oil steam\" and \"Drink Tulsi (holy basil) tea with ginger and honey\"],\n",
        "    \"dry skin\": [\"Apply coconut oil infused with Manjistha (Rubia cordifolia) powder\" and \"Drink Aloe vera juice\"],\n",
        "    \"eczema\": [\"Apply a paste of Neem leaves and Turmeric powder\" and \"Drink bitter gourd juice\"],\n",
        "    \"psoriasis\": [\"Apply Karanja oil\" and \"Drink bitter neem juice mixed with honey\"],\n",
        "    \"hair loss\": [\"Massage scalp with Bhringraj (Eclipta alba) oil\" and \"Drink Amla (Indian gooseberry) juice\"],\n",
        "    \"dandruff\": [\"Apply a mixture of lemon juice and coconut oil\" and \"Wash hair with Neem water\"],\n",
        "    \"bad breath\": [\"Chew on fresh Neem leaves\" and \"Gargle with warm water mixed with Triphala powder\"],\n",
        "    \"toothache\": [\"Apply clove oil on the affected tooth\" and \"Gargle with warm salt water\"],\n",
        "    \"bleeding gums\": [\"Massage gums with Babool (Acacia arabica) bark powder\" and \"Gargle with Triphala decoction\"],\n",
        "    \"earache\": [\"Apply warm mustard oil infused with garlic\" and \"Put a few drops of Tulsi oil in the ear\"],\n",
        "    \"eye strain\": [\"Do eye exercises regularly\" and \"Apply rose water soaked in cotton pads on eyes\"],\n",
        "    \"dry eyes\": [\"Massage eyelids with almond oil\" and \"Drink carrot juice\"],\n",
        "    \"heartburn\": [\"Chew on Fennel seeds after meals\" and \"Drink Coriander water\"],\n",
        "    \"nausea\": [\"Drink Ginger tea\" and \"Chew on Cardamom seeds\"],\n",
        "    \"motion sickness\": [\"Take Ginger capsules before travel\" and \"Sit facing forward during travel\"],\n",
        "    \"hangover\": [\"Drink coconut water\" and \"Eat ripe bananas\"],\n",
        "    \"premenstrual syndrome (PMS)\": [\"Drink Dandelion root tea\" and \"Take Chaste tree (Vitex) capsules\"],\n",
        "    \"menstrual cramps\": [\"Massage lower abdomen with Sesame oil\" and \"Drink Cinnamon tea\"],\n",
        "    \"hot flashes\": [\"Drink Sage tea\" and \"Avoid hot and spicy foods\"],\n",
        "    \"night sweats\": [\"Drink Sage tea\" and \"Sleep in a cool, well-ventilated room\"],\n",
        "    \"insulin resistance\": [\"Drink Bitter gourd juice\" and \"Take Fenugreek capsules\"],\n",
        "    \"thyroid imbalance\": [\"Drink Ashwagandha tea\" and \"Take Guggul capsules\"],\n",
        "    \"low libido\": [\"Take Shilajit capsules\" and \"Drink Maca root powder mixed with milk\"],\n",
        "    \"premature ejaculation\": [\"Take Kapikachhu (Mucuna pruriens) capsules\" and \"Practice Vajroli mudra\"],\n",
        "    \"erectile dysfunction\": [\"Take Ashwagandha capsules\" and \"Apply Ashwagandha oil on genitals\"],\n",
        "    \"menopause symptoms\": [\"Drink Red clover tea\" and \"Take Dong Quai capsules\"],\n",
        "    \"pregnancy discomforts\": [\"Drink Raspberry leaf tea\" and \"Take Nettle leaf capsules\"],\n",
        "    \"postpartum recovery\": [\"Drink Fenugreek tea\" and \"Take Shatavari capsules\"],\n",
        "})\n",
        "\n",
        "\n",
        "\n",
        "\n",
        "\n",
        "def preprocess_input(text):\n",
        "    text = ' '.join(text.split())\n",
        "    return text\n",
        "\n",
        "def generate_response(input_text):\n",
        "    input_text = preprocess_input(input_text)\n",
        "    input_ids = tokenizer.encode(input_text, return_tensors='pt')\n",
        "\n",
        "    # Generate response\n",
        "    response_ids = model.generate(input_ids, max_length=50, num_return_sequences=1, temperature=0.7)\n",
        "    response_text = tokenizer.decode(response_ids[0], skip_special_tokens=True)\n",
        "\n",
        "    return response_text\n",
        "\n",
        "def get_ayurvedic_remedy(symptoms):\n",
        "    remedies = []\n",
        "    for symptom in symptoms:\n",
        "        if symptom.lower() in symptoms_to_remedies:\n",
        "            remedies.extend(symptoms_to_remedies[symptom.lower()])\n",
        "    if remedies:\n",
        "        return random.choice(remedies)\n",
        "    else:\n",
        "        return \"I'm sorry, I don't have information about remedies for those symptoms.\"\n",
        "\n",
        "# Take custom input from user\n",
        "user_input = input(\"Please enter your symptoms (comma-separated): \")\n",
        "symptoms = [symptom.strip() for symptom in user_input.split(',')]\n",
        "\n",
        "# Get Ayurvedic remedy for the symptoms\n",
        "ayurvedic_remedy = get_ayurvedic_remedy(symptoms)\n",
        "\n",
        "# Generate response\n",
        "response = generate_response(ayurvedic_remedy)\n",
        "\n",
        "print(\"Ayurvedic remedy for\", ', '.join(symptoms) + \":\", ayurvedic_remedy)\n",
        "print(\"Response:\", response)\n"
      ],
      "metadata": {
        "colab": {
          "base_uri": "https://localhost:8080/"
        },
        "id": "WuZa_KrECfIV",
        "outputId": "192af5b2-5e0f-46f9-d567-f89d3eb0cdff"
      },
      "execution_count": 33,
      "outputs": [
        {
          "name": "stdout",
          "output_type": "stream",
          "text": [
            "Please enter your symptoms (comma-separated): fever\n"
          ]
        },
        {
          "output_type": "stream",
          "name": "stderr",
          "text": [
            "The attention mask and the pad token id were not set. As a consequence, you may observe unexpected behavior. Please pass your input's `attention_mask` to obtain reliable results.\n",
            "Setting `pad_token_id` to `eos_token_id`:50256 for open-end generation.\n"
          ]
        },
        {
          "output_type": "stream",
          "name": "stdout",
          "text": [
            "Ayurvedic remedy for fever: Take Sitopaladi churna mixed with honey\n",
            "Response: Take Sitopaladi churna mixed with honey and spices.\n",
            "\n",
            "The dish is served with a side of rice and a side of rice and a side of rice and a side of rice and a side of rice and a side of rice and a\n"
          ]
        }
      ]
    }
  ],
  "metadata": {
    "colab": {
      "provenance": []
    },
    "kernelspec": {
      "display_name": "Python 3",
      "name": "python3"
    },
    "language_info": {
      "name": "python"
    }
  },
  "nbformat": 4,
  "nbformat_minor": 0
}